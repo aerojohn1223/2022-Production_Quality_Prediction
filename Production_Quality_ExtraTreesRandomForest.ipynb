{
  "cells": [
    {
      "cell_type": "code",
      "execution_count": 2,
      "id": "00d0bfce-bb00-4c27-9ad9-edea7de19015",
      "metadata": {
        "id": "00d0bfce-bb00-4c27-9ad9-edea7de19015"
      },
      "outputs": [],
      "source": [
        "# 필수 라이브러리\n",
        "import pandas as pd\n",
        "import numpy as np\n",
        "import matplotlib.pyplot as plt\n",
        "import seaborn as sns\n",
        "pd.set_option(\"display.max_columns\", 150)\n",
        "from sklearn.model_selection import GridSearchCV\n"
      ]
    },
    {
      "cell_type": "code",
      "source": [
        "from google.colab import drive\n",
        "drive.mount('/content/drive')"
      ],
      "metadata": {
        "colab": {
          "base_uri": "https://localhost:8080/"
        },
        "id": "hIi6CqE1mDAC",
        "outputId": "cee0cda3-8dda-4612-857f-de15d9902798"
      },
      "id": "hIi6CqE1mDAC",
      "execution_count": 1,
      "outputs": [
        {
          "output_type": "stream",
          "name": "stdout",
          "text": [
            "Mounted at /content/drive\n"
          ]
        }
      ]
    },
    {
      "cell_type": "markdown",
      "id": "4f80c538",
      "metadata": {
        "id": "4f80c538"
      },
      "source": [
        "## 데이터 불러오기"
      ]
    },
    {
      "cell_type": "code",
      "execution_count": 3,
      "id": "2cc826b7-3ddb-4ff9-acd0-fc2a5750fed3",
      "metadata": {
        "id": "2cc826b7-3ddb-4ff9-acd0-fc2a5750fed3"
      },
      "outputs": [],
      "source": [
        "# 전체 데이터셋\n",
        "raw_data = pd.read_csv('/content/drive/MyDrive/elice_contest/raw_data')\n",
        "name_rawcols = list(raw_data.columns)"
      ]
    },
    {
      "cell_type": "code",
      "execution_count": 4,
      "id": "55529996",
      "metadata": {
        "colab": {
          "base_uri": "https://localhost:8080/"
        },
        "id": "55529996",
        "outputId": "4e05b9f7-ef1c-40f0-a5b6-4c36c6e51182"
      },
      "outputs": [
        {
          "output_type": "execute_result",
          "data": {
            "text/plain": [
              "['time_stamp',\n",
              " 'AmbientConditions.AmbientHumidity.U.Actual',\n",
              " 'AmbientConditions.AmbientTemperature.U.Actual',\n",
              " 'Machine1.RawMaterial.Property1',\n",
              " 'Machine1.RawMaterial.Property2',\n",
              " 'Machine1.RawMaterial.Property3',\n",
              " 'Machine1.RawMaterial.Property4',\n",
              " 'Machine1.RawMaterialFeederParameter.U.Actual',\n",
              " 'Machine1.Zone1Temperature.C.Actual',\n",
              " 'Machine1.Zone2Temperature.C.Actual',\n",
              " 'Machine1.MotorAmperage.U.Actual',\n",
              " 'Machine1.MotorRPM.C.Actual',\n",
              " 'Machine1.MaterialPressure.U.Actual',\n",
              " 'Machine1.MaterialTemperature.U.Actual',\n",
              " 'Machine1.ExitZoneTemperature.C.Actual',\n",
              " 'Machine2.RawMaterial.Property1',\n",
              " 'Machine2.RawMaterial.Property2',\n",
              " 'Machine2.RawMaterial.Property3',\n",
              " 'Machine2.RawMaterial.Property4',\n",
              " 'Machine2.RawMaterialFeederParameter.U.Actual',\n",
              " 'Machine2.Zone1Temperature.C.Actual',\n",
              " 'Machine2.Zone2Temperature.C.Actual',\n",
              " 'Machine2.MotorAmperage.U.Actual',\n",
              " 'Machine2.MotorRPM.C.Actual',\n",
              " 'Machine2.MaterialPressure.U.Actual',\n",
              " 'Machine2.MaterialTemperature.U.Actual',\n",
              " 'Machine2.ExitZoneTemperature.C.Actual',\n",
              " 'Machine3.RawMaterial.Property1',\n",
              " 'Machine3.RawMaterial.Property2',\n",
              " 'Machine3.RawMaterial.Property3',\n",
              " 'Machine3.RawMaterial.Property4',\n",
              " 'Machine3.RawMaterialFeederParameter.U.Actual',\n",
              " 'Machine3.Zone1Temperature.C.Actual',\n",
              " 'Machine3.Zone2Temperature.C.Actual',\n",
              " 'Machine3.MotorAmperage.U.Actual',\n",
              " 'Machine3.MotorRPM.C.Actual',\n",
              " 'Machine3.MaterialPressure.U.Actual',\n",
              " 'Machine3.MaterialTemperature.U.Actual',\n",
              " 'Machine3.ExitZoneTemperature.C.Actual',\n",
              " 'FirstStage.CombinerOperation.Temperature1.U.Actual',\n",
              " 'FirstStage.CombinerOperation.Temperature2.U.Actual',\n",
              " 'FirstStage.CombinerOperation.Temperature3.C.Actual',\n",
              " 'Stage1.Output.Measurement0.U.Actual',\n",
              " 'Stage1.Output.Measurement0.U.Setpoint',\n",
              " 'Stage1.Output.Measurement1.U.Actual',\n",
              " 'Stage1.Output.Measurement1.U.Setpoint',\n",
              " 'Stage1.Output.Measurement2.U.Actual',\n",
              " 'Stage1.Output.Measurement2.U.Setpoint',\n",
              " 'Stage1.Output.Measurement3.U.Actual',\n",
              " 'Stage1.Output.Measurement3.U.Setpoint',\n",
              " 'Stage1.Output.Measurement4.U.Actual',\n",
              " 'Stage1.Output.Measurement4.U.Setpoint',\n",
              " 'Stage1.Output.Measurement5.U.Actual',\n",
              " 'Stage1.Output.Measurement5.U.Setpoint',\n",
              " 'Stage1.Output.Measurement6.U.Actual',\n",
              " 'Stage1.Output.Measurement6.U.Setpoint',\n",
              " 'Stage1.Output.Measurement7.U.Actual',\n",
              " 'Stage1.Output.Measurement7.U.Setpoint',\n",
              " 'Stage1.Output.Measurement8.U.Actual',\n",
              " 'Stage1.Output.Measurement8.U.Setpoint',\n",
              " 'Stage1.Output.Measurement9.U.Actual',\n",
              " 'Stage1.Output.Measurement9.U.Setpoint',\n",
              " 'Stage1.Output.Measurement10.U.Actual',\n",
              " 'Stage1.Output.Measurement10.U.Setpoint',\n",
              " 'Stage1.Output.Measurement11.U.Actual',\n",
              " 'Stage1.Output.Measurement11.U.Setpoint',\n",
              " 'Stage1.Output.Measurement12.U.Actual',\n",
              " 'Stage1.Output.Measurement12.U.Setpoint',\n",
              " 'Stage1.Output.Measurement13.U.Actual',\n",
              " 'Stage1.Output.Measurement13.U.Setpoint',\n",
              " 'Stage1.Output.Measurement14.U.Actual',\n",
              " 'Stage1.Output.Measurement14.U.Setpoint',\n",
              " 'Machine4.Temperature1.C.Actual',\n",
              " 'Machine4.Temperature2.C.Actual',\n",
              " 'Machine4.Pressure.C.Actual',\n",
              " 'Machine4.Temperature3.C.Actual',\n",
              " 'Machine4.Temperature4.C.Actual',\n",
              " 'Machine4.Temperature5.C.Actual',\n",
              " 'Machine4.ExitTemperature.U.Actual',\n",
              " 'Machine5.Temperature1.C.Actual',\n",
              " 'Machine5.Temperature2.C.Actual',\n",
              " 'Machine5.Temperature3.C.Actual',\n",
              " 'Machine5.Temperature4.C.Actual',\n",
              " 'Machine5.Temperature5.C.Actual',\n",
              " 'Machine5.Temperature6.C.Actual',\n",
              " 'Machine5.ExitTemperature.U.Actual',\n",
              " 'Stage2.Output.Measurement0.U.Actual',\n",
              " 'Stage2.Output.Measurement0.U.Setpoint',\n",
              " 'Stage2.Output.Measurement1.U.Actual',\n",
              " 'Stage2.Output.Measurement1.U.Setpoint',\n",
              " 'Stage2.Output.Measurement2.U.Actual',\n",
              " 'Stage2.Output.Measurement2.U.Setpoint',\n",
              " 'Stage2.Output.Measurement3.U.Actual',\n",
              " 'Stage2.Output.Measurement3.U.Setpoint',\n",
              " 'Stage2.Output.Measurement4.U.Actual',\n",
              " 'Stage2.Output.Measurement4.U.Setpoint',\n",
              " 'Stage2.Output.Measurement5.U.Actual',\n",
              " 'Stage2.Output.Measurement5.U.Setpoint',\n",
              " 'Stage2.Output.Measurement6.U.Actual',\n",
              " 'Stage2.Output.Measurement6.U.Setpoint',\n",
              " 'Stage2.Output.Measurement7.U.Actual',\n",
              " 'Stage2.Output.Measurement7.U.Setpoint',\n",
              " 'Stage2.Output.Measurement8.U.Actual',\n",
              " 'Stage2.Output.Measurement8.U.Setpoint',\n",
              " 'Stage2.Output.Measurement9.U.Actual',\n",
              " 'Stage2.Output.Measurement9.U.Setpoint',\n",
              " 'Stage2.Output.Measurement10.U.Actual',\n",
              " 'Stage2.Output.Measurement10.U.Setpoint',\n",
              " 'Stage2.Output.Measurement11.U.Actual',\n",
              " 'Stage2.Output.Measurement11.U.Setpoint',\n",
              " 'Stage2.Output.Measurement12.U.Actual',\n",
              " 'Stage2.Output.Measurement12.U.Setpoint',\n",
              " 'Stage2.Output.Measurement13.U.Actual',\n",
              " 'Stage2.Output.Measurement13.U.Setpoint',\n",
              " 'Stage2.Output.Measurement14.U.Actual',\n",
              " 'Stage2.Output.Measurement14.U.Setpoint']"
            ]
          },
          "metadata": {},
          "execution_count": 4
        }
      ],
      "source": [
        "name_rawcols"
      ]
    },
    {
      "cell_type": "code",
      "execution_count": 5,
      "id": "4ea066a2",
      "metadata": {
        "id": "4ea066a2"
      },
      "outputs": [],
      "source": [
        "# 제출용 데이터\n",
        "submission = pd.read_csv('/content/drive/MyDrive/elice_contest/submission_df')"
      ]
    },
    {
      "cell_type": "markdown",
      "id": "54b91347",
      "metadata": {
        "id": "54b91347"
      },
      "source": [
        "## 데이터 처리"
      ]
    },
    {
      "cell_type": "code",
      "execution_count": 6,
      "id": "bff1abc1",
      "metadata": {
        "id": "bff1abc1"
      },
      "outputs": [],
      "source": [
        "def my_hour(X):\n",
        "    return int(X[11:13])\n",
        "\n",
        "def my_minute(X):\n",
        "    return int(X[14:16])\n",
        "\n",
        "def my_second(X):\n",
        "    return int(X[17:19])\n",
        "\n",
        "def my_minsec(X):\n",
        "    return (int(X[14:16])*60) + int(X[17:19])\n",
        "\n",
        "def my_time(X):\n",
        "    return (int(X[11:13]) * 60 * 60) + (int(X[14:16])*60) + int(X[17:19]) "
      ]
    },
    {
      "cell_type": "code",
      "execution_count": 7,
      "id": "8985857f",
      "metadata": {
        "id": "8985857f"
      },
      "outputs": [],
      "source": [
        "raw_data['hour'] = raw_data['time_stamp'].apply(my_hour)\n",
        "raw_data['minute'] = raw_data['time_stamp'].apply(my_minute)\n",
        "raw_data['second'] = raw_data['time_stamp'].apply(my_second)"
      ]
    },
    {
      "cell_type": "code",
      "execution_count": 8,
      "id": "aeaa4b15",
      "metadata": {
        "id": "aeaa4b15"
      },
      "outputs": [],
      "source": [
        "raw_data['minsec'] = raw_data['time_stamp'].apply(my_minsec)"
      ]
    },
    {
      "cell_type": "code",
      "execution_count": 9,
      "id": "c1bb0a6f",
      "metadata": {
        "id": "c1bb0a6f"
      },
      "outputs": [],
      "source": [
        "raw_data['time'] = raw_data['time_stamp'].apply(my_time)"
      ]
    },
    {
      "cell_type": "code",
      "execution_count": 10,
      "id": "5b3ecf50",
      "metadata": {
        "id": "5b3ecf50"
      },
      "outputs": [],
      "source": [
        "submission['hour'] = submission['time_stamp'].apply(my_hour)\n",
        "submission['minute'] = submission['time_stamp'].apply(my_minute)\n",
        "submission['second'] = submission['time_stamp'].apply(my_second)"
      ]
    },
    {
      "cell_type": "code",
      "execution_count": 11,
      "id": "5d23b765",
      "metadata": {
        "id": "5d23b765"
      },
      "outputs": [],
      "source": [
        "submission['minsec'] = submission['time_stamp'].apply(my_minsec)"
      ]
    },
    {
      "cell_type": "code",
      "execution_count": 12,
      "id": "2b5d630c",
      "metadata": {
        "id": "2b5d630c"
      },
      "outputs": [],
      "source": [
        "submission['time'] = submission['time_stamp'].apply(my_time)"
      ]
    },
    {
      "cell_type": "code",
      "execution_count": 13,
      "id": "0872ac6c",
      "metadata": {
        "id": "0872ac6c"
      },
      "outputs": [],
      "source": [
        "#stage 1 output별 데이터 나누기\n",
        "X_st1TRAIN = raw_data[['time_stamp',\n",
        " 'Machine3.MaterialTemperature.U.Actual',\n",
        " 'Machine3.MotorRPM.C.Actual',\n",
        " 'Machine1.MaterialTemperature.U.Actual',\n",
        "                     'Machine1.MotorAmperage.U.Actual',\n",
        "                     'Machine1.Zone2Temperature.C.Actual',\n",
        "                     'FirstStage.CombinerOperation.Temperature2.U.Actual',\n",
        "                     'AmbientConditions.AmbientTemperature.U.Actual',\n",
        "                     'FirstStage.CombinerOperation.Temperature1.U.Actual',\n",
        "                     'Machine1.MaterialPressure.U.Actual',\n",
        "                     'Machine3.MaterialPressure.U.Actual',\n",
        "                      'Machine3.MotorAmperage.U.Actual',\n",
        "                       #'Machine1.MotorRPM.C.Actual',\n",
        "                     #'Machine1.RawMaterialFeederParameter.U.Actual',\n",
        "                       #'Machine2.MaterialPressure.U.Actual',\n",
        "                       'FirstStage.CombinerOperation.Temperature3.C.Actual',\n",
        "                      #'Machine2.RawMaterialFeederParameter.U.Actual'\n",
        "                       #'Machine3.RawMaterialFeederParameter.U.Actual',\n",
        "                       'Machine2.ExitZoneTemperature.C.Actual',\n",
        "                       'Machine5.ExitTemperature.U.Actual',\n",
        "                       #'Machine2.MotorAmperage.U.Actual',\n",
        "                       #'Machine2.Zone2Temperature.C.Actual',\n",
        "                       'minute',\n",
        "                       'second',\n",
        "                       'minsec',\n",
        "                       'time',\n",
        "                       'Machine4.Temperature1.C.Actual',\n",
        "                       'Machine4.Temperature2.C.Actual',\n",
        "                       'Machine4.Pressure.C.Actual',\n",
        "                       'Machine4.Temperature3.C.Actual',\n",
        "                       'Machine4.Temperature4.C.Actual',\n",
        "                       'Machine4.Temperature5.C.Actual',\n",
        "                       'Machine4.ExitTemperature.U.Actual',\n",
        "                       'Machine5.Temperature1.C.Actual',\n",
        "                       'Machine5.Temperature2.C.Actual',\n",
        "                       'Machine5.Temperature4.C.Actual',\n",
        "                       'Machine5.Temperature5.C.Actual',\n",
        "                       #'Machine5.Temperature3.C.Actual',\n",
        "                       \n",
        "                       \n",
        "                      ]]\n",
        "\n",
        "y_st1TRAIN = raw_data[['Stage1.Output.Measurement0.U.Actual',\n",
        " 'Stage1.Output.Measurement1.U.Actual',\n",
        " 'Stage1.Output.Measurement2.U.Actual',\n",
        " 'Stage1.Output.Measurement3.U.Actual',\n",
        " 'Stage1.Output.Measurement4.U.Actual',\n",
        " 'Stage1.Output.Measurement5.U.Actual',\n",
        " 'Stage1.Output.Measurement6.U.Actual',\n",
        " 'Stage1.Output.Measurement7.U.Actual',\n",
        " 'Stage1.Output.Measurement8.U.Actual',\n",
        " 'Stage1.Output.Measurement9.U.Actual',\n",
        " 'Stage1.Output.Measurement10.U.Actual',\n",
        " 'Stage1.Output.Measurement11.U.Actual',\n",
        " 'Stage1.Output.Measurement12.U.Actual',\n",
        " 'Stage1.Output.Measurement13.U.Actual',\n",
        " 'Stage1.Output.Measurement14.U.Actual']]\n"
      ]
    },
    {
      "cell_type": "code",
      "execution_count": 14,
      "id": "7edc8d7f",
      "metadata": {
        "id": "7edc8d7f"
      },
      "outputs": [],
      "source": [
        "X_st1TEST = submission[['time_stamp',\n",
        " 'Machine3.MaterialTemperature.U.Actual',\n",
        " 'Machine3.MotorRPM.C.Actual',\n",
        " 'Machine1.MaterialTemperature.U.Actual',\n",
        "                     'Machine1.MotorAmperage.U.Actual',\n",
        "                     'Machine1.Zone2Temperature.C.Actual',\n",
        "                     'FirstStage.CombinerOperation.Temperature2.U.Actual',\n",
        "                     'AmbientConditions.AmbientTemperature.U.Actual',\n",
        "                     'FirstStage.CombinerOperation.Temperature1.U.Actual',\n",
        "                     'Machine1.MaterialPressure.U.Actual',\n",
        "                     'Machine3.MaterialPressure.U.Actual',\n",
        "                       'Machine3.MotorAmperage.U.Actual',\n",
        "                        #'Machine1.MotorRPM.C.Actual',\n",
        "                        #'Machine1.RawMaterialFeederParameter.U.Actual',\n",
        "                        #'Machine2.MaterialPressure.U.Actual',\n",
        "                        'FirstStage.CombinerOperation.Temperature3.C.Actual',\n",
        "                       #'Machine2.RawMaterialFeederParameter.U.Actual'\n",
        "                        #'Machine3.RawMaterialFeederParameter.U.Actual',\n",
        "                        'Machine2.ExitZoneTemperature.C.Actual',\n",
        "                        'Machine5.ExitTemperature.U.Actual',\n",
        "                        #'Machine2.MotorAmperage.U.Actual',\n",
        "                        #'Machine2.Zone2Temperature.C.Actual',\n",
        "                       'minute',\n",
        "                       'second',\n",
        "                        'minsec',\n",
        "                        'time',\n",
        "                        'Machine4.Temperature1.C.Actual',\n",
        "                       'Machine4.Temperature2.C.Actual',\n",
        "                       'Machine4.Pressure.C.Actual',\n",
        "                       'Machine4.Temperature3.C.Actual',\n",
        "                       'Machine4.Temperature4.C.Actual',\n",
        "                       'Machine4.Temperature5.C.Actual',\n",
        "                       'Machine4.ExitTemperature.U.Actual',\n",
        "                       'Machine5.Temperature1.C.Actual',\n",
        "                       'Machine5.Temperature2.C.Actual',\n",
        "                       'Machine5.Temperature4.C.Actual',\n",
        "                       'Machine5.Temperature5.C.Actual'\n",
        "                       #'Machine5.Temperature3.C.Actual'\n",
        "                       ]]\n",
        "\n",
        "y_st1TEST = submission[[\n",
        " 'Stage1.Output.Measurement0.U.Actual',\n",
        " 'Stage1.Output.Measurement1.U.Actual',\n",
        " 'Stage1.Output.Measurement2.U.Actual',\n",
        " 'Stage1.Output.Measurement3.U.Actual',\n",
        " 'Stage1.Output.Measurement4.U.Actual',\n",
        " 'Stage1.Output.Measurement5.U.Actual',\n",
        " 'Stage1.Output.Measurement6.U.Actual',\n",
        " 'Stage1.Output.Measurement7.U.Actual',\n",
        " 'Stage1.Output.Measurement8.U.Actual',\n",
        " 'Stage1.Output.Measurement9.U.Actual',\n",
        " 'Stage1.Output.Measurement10.U.Actual',\n",
        " 'Stage1.Output.Measurement11.U.Actual',\n",
        " 'Stage1.Output.Measurement12.U.Actual',\n",
        " 'Stage1.Output.Measurement13.U.Actual',\n",
        " 'Stage1.Output.Measurement14.U.Actual']]\n",
        "\n"
      ]
    },
    {
      "cell_type": "code",
      "execution_count": 15,
      "id": "f5eeaa33",
      "metadata": {
        "colab": {
          "base_uri": "https://localhost:8080/"
        },
        "id": "f5eeaa33",
        "outputId": "ddfbe0ba-8bf1-4870-cbd4-4571cd0bde7d"
      },
      "outputs": [
        {
          "output_type": "stream",
          "name": "stderr",
          "text": [
            "<ipython-input-15-716cc22d98b2>:1: SettingWithCopyWarning: \n",
            "A value is trying to be set on a copy of a slice from a DataFrame.\n",
            "Try using .loc[row_indexer,col_indexer] = value instead\n",
            "\n",
            "See the caveats in the documentation: https://pandas.pydata.org/pandas-docs/stable/user_guide/indexing.html#returning-a-view-versus-a-copy\n",
            "  X_st1TRAIN['time_stamp'] = pd.to_datetime(X_st1TRAIN['time_stamp'])\n",
            "<ipython-input-15-716cc22d98b2>:4: SettingWithCopyWarning: \n",
            "A value is trying to be set on a copy of a slice from a DataFrame.\n",
            "Try using .loc[row_indexer,col_indexer] = value instead\n",
            "\n",
            "See the caveats in the documentation: https://pandas.pydata.org/pandas-docs/stable/user_guide/indexing.html#returning-a-view-versus-a-copy\n",
            "  X_st1TEST['time_stamp'] = pd.to_datetime(X_st1TEST['time_stamp'])\n"
          ]
        }
      ],
      "source": [
        "X_st1TRAIN['time_stamp'] = pd.to_datetime(X_st1TRAIN['time_stamp'])\n",
        "X_st1TRAIN= X_st1TRAIN.set_index('time_stamp')\n",
        "\n",
        "X_st1TEST['time_stamp'] = pd.to_datetime(X_st1TEST['time_stamp'])\n",
        "X_st1TEST= X_st1TEST.set_index('time_stamp')"
      ]
    },
    {
      "cell_type": "markdown",
      "id": "97fe4ca1",
      "metadata": {
        "id": "97fe4ca1"
      },
      "source": [
        "## 제출을 위한 최종 예측값\n",
        "\n",
        "- 반드시 numpy array로 저장해야 합니다."
      ]
    },
    {
      "cell_type": "code",
      "execution_count": 16,
      "id": "83ed023c",
      "metadata": {
        "id": "83ed023c"
      },
      "outputs": [],
      "source": [
        "from sklearn.ensemble import ExtraTreesRegressor\n",
        "\n",
        "fit_reg6 = ExtraTreesRegressor(n_estimators = 1500,\n",
        "                              max_depth = 38, #32\n",
        "                              min_samples_split = 2,\n",
        "                              random_state = 123).fit(X_st1TRAIN, y_st1TRAIN)\n",
        "\n",
        "\n",
        "pred_reg6 = fit_reg6.predict(X_st1TEST)"
      ]
    },
    {
      "cell_type": "markdown",
      "id": "2879dd68",
      "metadata": {
        "id": "2879dd68"
      },
      "source": [
        "# Station 2"
      ]
    },
    {
      "cell_type": "code",
      "execution_count": 17,
      "id": "4292993d",
      "metadata": {
        "id": "4292993d"
      },
      "outputs": [],
      "source": [
        "X_st2TRAIN = raw_data[['time_stamp',\n",
        " 'Machine3.MaterialTemperature.U.Actual',\n",
        "                     'Machine1.MotorRPM.C.Actual',\n",
        "                     'Machine3.MotorRPM.C.Actual',\n",
        "                     'Machine3.MaterialPressure.U.Actual',\n",
        "                     'Machine5.ExitTemperature.U.Actual',\n",
        "                     'Machine1.MaterialTemperature.U.Actual',\n",
        "                     'FirstStage.CombinerOperation.Temperature2.U.Actual',\n",
        "                     #'Machine1.RawMaterialFeederParameter.U.Actual',\n",
        "                       'Machine1.Zone2Temperature.C.Actual', #살려두기\n",
        "                    #'Machine1.MaterialPressure.U.Actual',\n",
        "                       'Machine3.MotorAmperage.U.Actual', #살려두기\n",
        "                    #'Machine2.RawMaterialFeederParameter.U.Actual', \n",
        "                       #'Machine2.RawMaterialFeederParameter.U.Actual', \n",
        "                       'Machine2.MaterialPressure.U.Actual', \n",
        "                     'Machine5.Temperature6.C.Actual',\n",
        "                     #'Machine5.Temperature3.C.Actual',\n",
        "                     'Machine4.ExitTemperature.U.Actual',\n",
        "                       #'Machine5.Temperature4.C.Actual',\n",
        "                       #'Machine4.Temperature2.C.Actual',\n",
        "                       'Machine4.Temperature5.C.Actual', #살려두기.\n",
        "                       'Machine4.Temperature3.C.Actual', #살려두기.\n",
        "                       #'AmbientConditions.AmbientTemperature.U.Actual', #살려두기.\n",
        "                       #'Machine4.Temperature1.C.Actual',\n",
        "                       'minute',\n",
        "                       'second',\n",
        "                       'minsec',\n",
        "                       'time',\n",
        "                       'Stage1.Output.Measurement0.U.Actual',\n",
        "                       #'Stage1.Output.Measurement1.U.Actual',\n",
        "                       'Stage1.Output.Measurement2.U.Actual',\n",
        "                       'Stage1.Output.Measurement3.U.Actual',\n",
        "                       'Stage1.Output.Measurement4.U.Actual',\n",
        "                       #'Stage1.Output.Measurement5.U.Actual',\n",
        "                       'Stage1.Output.Measurement6.U.Actual',\n",
        "                       #'Stage1.Output.Measurement7.U.Actual',\n",
        "                       'Stage1.Output.Measurement8.U.Actual',\n",
        "                       'Stage1.Output.Measurement9.U.Actual',\n",
        "                       #'Stage1.Output.Measurement10.U.Actual',\n",
        "                       #'Stage1.Output.Measurement11.U.Actual',\n",
        "                       #'Stage1.Output.Measurement12.U.Actual',\n",
        "                       'Stage1.Output.Measurement13.U.Actual',\n",
        "                       #'Stage1.Output.Measurement14.U.Actual'\n",
        "                       \n",
        "                       \n",
        "                      ]]\n",
        "\n",
        "y_st2TRAIN = raw_data[[\n",
        " 'Stage2.Output.Measurement0.U.Actual',\n",
        " 'Stage2.Output.Measurement1.U.Actual',\n",
        " 'Stage2.Output.Measurement2.U.Actual',\n",
        " 'Stage2.Output.Measurement3.U.Actual',\n",
        " 'Stage2.Output.Measurement4.U.Actual',\n",
        " 'Stage2.Output.Measurement5.U.Actual',\n",
        " 'Stage2.Output.Measurement6.U.Actual',\n",
        " 'Stage2.Output.Measurement7.U.Actual',\n",
        " 'Stage2.Output.Measurement8.U.Actual',\n",
        " 'Stage2.Output.Measurement9.U.Actual',\n",
        " 'Stage2.Output.Measurement10.U.Actual',\n",
        " 'Stage2.Output.Measurement11.U.Actual',\n",
        " 'Stage2.Output.Measurement12.U.Actual',\n",
        " 'Stage2.Output.Measurement13.U.Actual',\n",
        " 'Stage2.Output.Measurement14.U.Actual']]"
      ]
    },
    {
      "cell_type": "code",
      "execution_count": 18,
      "id": "7a5f1088",
      "metadata": {
        "id": "7a5f1088"
      },
      "outputs": [],
      "source": [
        "X_st2TEST = submission[['time_stamp',\n",
        " 'Machine3.MaterialTemperature.U.Actual',\n",
        "                     'Machine1.MotorRPM.C.Actual',\n",
        "                     'Machine3.MotorRPM.C.Actual',\n",
        "                     'Machine3.MaterialPressure.U.Actual',\n",
        "                     'Machine5.ExitTemperature.U.Actual',\n",
        "                     'Machine1.MaterialTemperature.U.Actual',\n",
        "                     'FirstStage.CombinerOperation.Temperature2.U.Actual',\n",
        "                     #'Machine1.RawMaterialFeederParameter.U.Actual',\n",
        "                        'Machine1.Zone2Temperature.C.Actual', #살려두기.\n",
        "                    #'Machine1.MaterialPressure.U.Actual', \n",
        "                        'Machine3.MotorAmperage.U.Actual', #살려두기\n",
        "                    #'Machine2.RawMaterialFeederParameter.U.Actual',\n",
        "                    #'Machine2.RawMaterialFeederParameter.U.Actual', \n",
        "                        'Machine2.MaterialPressure.U.Actual',\n",
        "                     'Machine5.Temperature6.C.Actual',\n",
        "                     #'Machine5.Temperature3.C.Actual',\n",
        "                     'Machine4.ExitTemperature.U.Actual',\n",
        "                        #'Machine5.Temperature4.C.Actual',\n",
        "                        #'Machine4.Temperature2.C.Actual',\n",
        "                        'Machine4.Temperature5.C.Actual', #살려두기\n",
        "                        'Machine4.Temperature3.C.Actual', #살려두기\n",
        "                        #'AmbientConditions.AmbientTemperature.U.Actual', #살려두기\n",
        "                        #'Machine4.Temperature1.C.Actual',\n",
        "                        'minute',\n",
        "                        'second',\n",
        "                        'minsec',\n",
        "                        'time',\n",
        "                        \n",
        "                       ]]\n",
        "\n",
        "y_st2TEST = submission[[\n",
        " 'Stage2.Output.Measurement0.U.Actual',\n",
        " 'Stage2.Output.Measurement1.U.Actual',\n",
        " 'Stage2.Output.Measurement2.U.Actual',\n",
        " 'Stage2.Output.Measurement3.U.Actual',\n",
        " 'Stage2.Output.Measurement4.U.Actual',\n",
        " 'Stage2.Output.Measurement5.U.Actual',\n",
        " 'Stage2.Output.Measurement6.U.Actual',\n",
        " 'Stage2.Output.Measurement7.U.Actual',\n",
        " 'Stage2.Output.Measurement8.U.Actual',\n",
        " 'Stage2.Output.Measurement9.U.Actual',\n",
        " 'Stage2.Output.Measurement10.U.Actual',\n",
        " 'Stage2.Output.Measurement11.U.Actual',\n",
        " 'Stage2.Output.Measurement12.U.Actual',\n",
        " 'Stage2.Output.Measurement13.U.Actual',\n",
        " 'Stage2.Output.Measurement14.U.Actual']]"
      ]
    },
    {
      "cell_type": "code",
      "execution_count": 19,
      "id": "4b852a54",
      "metadata": {
        "colab": {
          "base_uri": "https://localhost:8080/"
        },
        "id": "4b852a54",
        "outputId": "ff670f81-a01f-4311-f6dc-9eaae2505df1"
      },
      "outputs": [
        {
          "output_type": "stream",
          "name": "stderr",
          "text": [
            "<ipython-input-19-f4c7e7ee21e6>:3: SettingWithCopyWarning: \n",
            "A value is trying to be set on a copy of a slice from a DataFrame.\n",
            "Try using .loc[row_indexer,col_indexer] = value instead\n",
            "\n",
            "See the caveats in the documentation: https://pandas.pydata.org/pandas-docs/stable/user_guide/indexing.html#returning-a-view-versus-a-copy\n",
            "  X_st2TEST['Stage1.Output.Measurement0.U.Actual'] = tmp_df[0]\n",
            "<ipython-input-19-f4c7e7ee21e6>:5: SettingWithCopyWarning: \n",
            "A value is trying to be set on a copy of a slice from a DataFrame.\n",
            "Try using .loc[row_indexer,col_indexer] = value instead\n",
            "\n",
            "See the caveats in the documentation: https://pandas.pydata.org/pandas-docs/stable/user_guide/indexing.html#returning-a-view-versus-a-copy\n",
            "  X_st2TEST['Stage1.Output.Measurement2.U.Actual'] = tmp_df[2]\n",
            "<ipython-input-19-f4c7e7ee21e6>:6: SettingWithCopyWarning: \n",
            "A value is trying to be set on a copy of a slice from a DataFrame.\n",
            "Try using .loc[row_indexer,col_indexer] = value instead\n",
            "\n",
            "See the caveats in the documentation: https://pandas.pydata.org/pandas-docs/stable/user_guide/indexing.html#returning-a-view-versus-a-copy\n",
            "  X_st2TEST['Stage1.Output.Measurement3.U.Actual'] = tmp_df[3]\n",
            "<ipython-input-19-f4c7e7ee21e6>:7: SettingWithCopyWarning: \n",
            "A value is trying to be set on a copy of a slice from a DataFrame.\n",
            "Try using .loc[row_indexer,col_indexer] = value instead\n",
            "\n",
            "See the caveats in the documentation: https://pandas.pydata.org/pandas-docs/stable/user_guide/indexing.html#returning-a-view-versus-a-copy\n",
            "  X_st2TEST['Stage1.Output.Measurement4.U.Actual'] = tmp_df[4]\n",
            "<ipython-input-19-f4c7e7ee21e6>:9: SettingWithCopyWarning: \n",
            "A value is trying to be set on a copy of a slice from a DataFrame.\n",
            "Try using .loc[row_indexer,col_indexer] = value instead\n",
            "\n",
            "See the caveats in the documentation: https://pandas.pydata.org/pandas-docs/stable/user_guide/indexing.html#returning-a-view-versus-a-copy\n",
            "  X_st2TEST['Stage1.Output.Measurement6.U.Actual'] = tmp_df[6]\n",
            "<ipython-input-19-f4c7e7ee21e6>:11: SettingWithCopyWarning: \n",
            "A value is trying to be set on a copy of a slice from a DataFrame.\n",
            "Try using .loc[row_indexer,col_indexer] = value instead\n",
            "\n",
            "See the caveats in the documentation: https://pandas.pydata.org/pandas-docs/stable/user_guide/indexing.html#returning-a-view-versus-a-copy\n",
            "  X_st2TEST['Stage1.Output.Measurement8.U.Actual'] = tmp_df[8]\n",
            "<ipython-input-19-f4c7e7ee21e6>:12: SettingWithCopyWarning: \n",
            "A value is trying to be set on a copy of a slice from a DataFrame.\n",
            "Try using .loc[row_indexer,col_indexer] = value instead\n",
            "\n",
            "See the caveats in the documentation: https://pandas.pydata.org/pandas-docs/stable/user_guide/indexing.html#returning-a-view-versus-a-copy\n",
            "  X_st2TEST['Stage1.Output.Measurement9.U.Actual'] = tmp_df[9]\n",
            "<ipython-input-19-f4c7e7ee21e6>:16: SettingWithCopyWarning: \n",
            "A value is trying to be set on a copy of a slice from a DataFrame.\n",
            "Try using .loc[row_indexer,col_indexer] = value instead\n",
            "\n",
            "See the caveats in the documentation: https://pandas.pydata.org/pandas-docs/stable/user_guide/indexing.html#returning-a-view-versus-a-copy\n",
            "  X_st2TEST['Stage1.Output.Measurement13.U.Actual'] = tmp_df[13]\n"
          ]
        }
      ],
      "source": [
        "tmp_df = pd.DataFrame(pred_reg6)\n",
        "\n",
        "X_st2TEST['Stage1.Output.Measurement0.U.Actual'] = tmp_df[0]\n",
        "#X_st2TEST['Stage1.Output.Measurement1.U.Actual'] = tmp_df[1]\n",
        "X_st2TEST['Stage1.Output.Measurement2.U.Actual'] = tmp_df[2]\n",
        "X_st2TEST['Stage1.Output.Measurement3.U.Actual'] = tmp_df[3]\n",
        "X_st2TEST['Stage1.Output.Measurement4.U.Actual'] = tmp_df[4]\n",
        "#X_st2TEST['Stage1.Output.Measurement5.U.Actual'] = tmp_df[5]\n",
        "X_st2TEST['Stage1.Output.Measurement6.U.Actual'] = tmp_df[6]\n",
        "#X_st2TEST['Stage1.Output.Measurement7.U.Actual'] = tmp_df[7]\n",
        "X_st2TEST['Stage1.Output.Measurement8.U.Actual'] = tmp_df[8]\n",
        "X_st2TEST['Stage1.Output.Measurement9.U.Actual'] = tmp_df[9]\n",
        "#X_st2TEST['Stage1.Output.Measurement10.U.Actual'] = tmp_df[10]\n",
        "#X_st2TEST['Stage1.Output.Measurement11.U.Actual'] = tmp_df[11]\n",
        "#X_st2TEST['Stage1.Output.Measurement12.U.Actual'] = tmp_df[12]\n",
        "X_st2TEST['Stage1.Output.Measurement13.U.Actual'] = tmp_df[13]\n",
        "#X_st2TEST['Stage1.Output.Measurement14.U.Actual'] = tmp_df[14]"
      ]
    },
    {
      "cell_type": "code",
      "execution_count": 20,
      "id": "1420bd25",
      "metadata": {
        "colab": {
          "base_uri": "https://localhost:8080/"
        },
        "id": "1420bd25",
        "outputId": "55bd09e8-438a-4424-b8a6-e958c185dada"
      },
      "outputs": [
        {
          "output_type": "stream",
          "name": "stderr",
          "text": [
            "<ipython-input-20-588e61321951>:1: SettingWithCopyWarning: \n",
            "A value is trying to be set on a copy of a slice from a DataFrame.\n",
            "Try using .loc[row_indexer,col_indexer] = value instead\n",
            "\n",
            "See the caveats in the documentation: https://pandas.pydata.org/pandas-docs/stable/user_guide/indexing.html#returning-a-view-versus-a-copy\n",
            "  X_st2TRAIN['time_stamp'] = pd.to_datetime(X_st2TRAIN['time_stamp'])\n",
            "<ipython-input-20-588e61321951>:4: SettingWithCopyWarning: \n",
            "A value is trying to be set on a copy of a slice from a DataFrame.\n",
            "Try using .loc[row_indexer,col_indexer] = value instead\n",
            "\n",
            "See the caveats in the documentation: https://pandas.pydata.org/pandas-docs/stable/user_guide/indexing.html#returning-a-view-versus-a-copy\n",
            "  X_st2TEST['time_stamp'] = pd.to_datetime(X_st2TEST['time_stamp'])\n"
          ]
        }
      ],
      "source": [
        "X_st2TRAIN['time_stamp'] = pd.to_datetime(X_st2TRAIN['time_stamp'])\n",
        "X_st2TRAIN= X_st2TRAIN.set_index('time_stamp')\n",
        "\n",
        "X_st2TEST['time_stamp'] = pd.to_datetime(X_st2TEST['time_stamp'])\n",
        "X_st2TEST= X_st2TEST.set_index('time_stamp')"
      ]
    },
    {
      "cell_type": "code",
      "execution_count": null,
      "id": "c1886c20",
      "metadata": {
        "id": "c1886c20"
      },
      "outputs": [],
      "source": [
        "from sklearn.ensemble import ExtraTreesRegressor\n",
        "\n",
        "fit_reg2 = ExtraTreesRegressor(n_estimators = 1500,\n",
        "                              max_depth = 32,\n",
        "                              min_samples_split = 2,\n",
        "                              random_state = 123).fit(X_st2TRAIN, y_st2TRAIN)\n",
        "pred_reg2 = fit_reg2.predict(X_st2TEST)"
      ]
    },
    {
      "cell_type": "code",
      "execution_count": null,
      "id": "65d762ce",
      "metadata": {
        "id": "65d762ce"
      },
      "outputs": [],
      "source": [
        "stage1_sub_pred = pred_reg6 # stage1의 예측값\n",
        "stage2_sub_pred = pred_reg2 # stage2의 예측값"
      ]
    },
    {
      "cell_type": "markdown",
      "id": "67af536a-6cd1-4c49-9943-b71c52448437",
      "metadata": {
        "id": "67af536a-6cd1-4c49-9943-b71c52448437"
      },
      "source": [
        "## 채점\n",
        "\n",
        "결과로 제출할 파일을 저장 후, 아래 코드를 실행하면 채점을 수행합니다.\n",
        "\n",
        "**아래 코드를 수정하면 정상적으로 채점이 이루어지지 않을 수 있습니다.**\n",
        "\n",
        "### 주의: 코드 파일도 채점 코드로 전달하기 때문에 아래 코드를 실행하기 전에 반드시 저장 버튼 혹은 <kbd>Ctrl</kbd> + <kbd>S</kbd>를 눌러 변경사항을 모두 저장하시길 바랍니다."
      ]
    },
    {
      "cell_type": "code",
      "execution_count": null,
      "id": "bcb6b466",
      "metadata": {
        "id": "bcb6b466"
      },
      "outputs": [],
      "source": [
        "result_dict = {\n",
        "    'stage1': stage1_sub_pred.tolist(), # stage1의 예측값\n",
        "    'stage2': stage2_sub_pred.tolist(), # stage2의 예측값\n",
        "}"
      ]
    },
    {
      "cell_type": "code",
      "execution_count": null,
      "id": "8e266492-fc46-42af-881e-75ff77388357",
      "metadata": {
        "id": "8e266492-fc46-42af-881e-75ff77388357",
        "outputId": "800ea85d-732b-4c55-b725-7d88f94218b6"
      },
      "outputs": [
        {
          "name": "stdout",
          "output_type": "stream",
          "text": [
            "send files ['result.json', 'time_series_regression.ipynb'] for grade...\n"
          ]
        },
        {
          "name": "stderr",
          "output_type": "stream",
          "text": [
            "Compressed 2314240 bytes into 1560982 bytes ==> 67.45%\n"
          ]
        },
        {
          "name": "stdout",
          "output_type": "stream",
          "text": [
            "waiting result...\n",
            "done!\n",
            "\n",
            "Score: 78.241130\n",
            "Duration: 2.655825138092041 seconds\n",
            "=== Message ===\n",
            "제출 완료되었습니다.\n"
          ]
        },
        {
          "data": {
            "text/plain": [
              "0"
            ]
          },
          "execution_count": 23,
          "metadata": {},
          "output_type": "execute_result"
        }
      ],
      "source": [
        "import json\n",
        "import os\n",
        "\n",
        "with open(\"result.json\", \"w\") as f:\n",
        "    json.dump(result_dict, f)\n",
        "\n",
        "os.system(\"elice_grade result.json time_series_regression.ipynb\")"
      ]
    },
    {
      "cell_type": "code",
      "execution_count": null,
      "id": "82cf0c8f",
      "metadata": {
        "id": "82cf0c8f"
      },
      "outputs": [],
      "source": []
    }
  ],
  "metadata": {
    "kernelspec": {
      "display_name": "Python 3 (ipykernel)",
      "language": "python",
      "name": "python3"
    },
    "language_info": {
      "codemirror_mode": {
        "name": "ipython",
        "version": 3
      },
      "file_extension": ".py",
      "mimetype": "text/x-python",
      "name": "python",
      "nbconvert_exporter": "python",
      "pygments_lexer": "ipython3",
      "version": "3.9.14"
    },
    "vscode": {
      "interpreter": {
        "hash": "212ed7ce1297a39c9fbf5ca85e06406b93631cc7f04eebf2647cdd4c558781fa"
      }
    },
    "colab": {
      "provenance": []
    }
  },
  "nbformat": 4,
  "nbformat_minor": 5
}